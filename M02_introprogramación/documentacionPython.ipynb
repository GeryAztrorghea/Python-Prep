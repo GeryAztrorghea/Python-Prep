{
 "cells": [
  {
   "cell_type": "code",
   "execution_count": 2,
   "metadata": {},
   "outputs": [
    {
     "name": "stdout",
     "output_type": "stream",
     "text": [
      "La variable x es:  5\n",
      "La variable y es:  3.4\n",
      "La variable z es:  Hola desde python\n",
      "La variable w es:  True\n"
     ]
    }
   ],
   "source": [
    "# ********TIPOS DE DATOS **********\n",
    "# Enteros (1,2,3), Flotantes (1.2, 4.5), String (\"a\", \"hola\"), Booleanos (True, False), Complejos (3 + 5j).\n",
    "x = 5; # Entero\n",
    "y = 3.4; #Flotante \n",
    "z = \"Hola desde python\"; #String\n",
    "w = True;\n",
    "print(\"La variable x es: \", x );\n",
    "print(\"La variable y es: \", y );\n",
    "print(\"La variable z es: \", z );\n",
    "print(\"La variable w es: \", w );"
   ]
  },
  {
   "cell_type": "code",
   "execution_count": 3,
   "metadata": {},
   "outputs": [
    {
     "name": "stdout",
     "output_type": "stream",
     "text": [
      "<class 'int'>\n"
     ]
    }
   ],
   "source": [
    "# Funcion para conocer el tipo de una variable\n",
    "x = 3;\n",
    "print(type(x));"
   ]
  },
  {
   "cell_type": "code",
   "execution_count": 6,
   "metadata": {},
   "outputs": [
    {
     "name": "stdout",
     "output_type": "stream",
     "text": [
      "True\n"
     ]
    }
   ],
   "source": [
    "# Funcion bool() => si la variable tiene datos es true y si no tiene es false\n",
    "x = 3;\n",
    "print(bool(x));"
   ]
  },
  {
   "cell_type": "code",
   "execution_count": 10,
   "metadata": {},
   "outputs": [
    {
     "name": "stdout",
     "output_type": "stream",
     "text": [
      "9\n",
      "-1\n",
      "20\n",
      "0.8\n",
      "1\n",
      "4\n",
      "1024\n"
     ]
    }
   ],
   "source": [
    "# Realizacion de operaciones aritmeticas (Suma +, Resta -, Multiplicacion *, divicion decimal /, divicion entera //, Potencia **, residuo %)\n",
    "print( 4 + 5);\n",
    "print( 4 - 5);\n",
    "print( 4 * 5);\n",
    "print( 4 / 5);\n",
    "print( 7 // 5);\n",
    "print( 4 % 5);\n",
    "print( 4 ** 5);"
   ]
  },
  {
   "cell_type": "code",
   "execution_count": 11,
   "metadata": {},
   "outputs": [
    {
     "name": "stdout",
     "output_type": "stream",
     "text": [
      "False\n",
      "True\n",
      "True\n",
      "False\n",
      "True\n",
      "True\n"
     ]
    }
   ],
   "source": [
    "# Realiza de operadores relaciones (igual ==, distinto !=, Mayor >, Menor <, Mayor o igual >=, Menor o igual <=)\n",
    "print(5 == 3); \n",
    "print(5 != 3);\n",
    "print(5 > 3);\n",
    "print(5 < 3);\n",
    "print(5 >= 3);\n",
    "print(5 >= 3);"
   ]
  },
  {
   "cell_type": "code",
   "execution_count": 13,
   "metadata": {},
   "outputs": [
    {
     "name": "stdout",
     "output_type": "stream",
     "text": [
      "4\n",
      "9\n",
      "4\n",
      "20\n",
      "4.0\n",
      "4.0\n",
      "0.0\n",
      "0.0\n"
     ]
    }
   ],
   "source": [
    "# Operadores de asignacion: simplificacion de las operaciones (asignar valor a variable =, crear una suma a una variable +=, una resta a la variable -=,\n",
    "# multiplicacion a la variable *=, una division a la variable /=, el residuo a la variable %=, la divison exacta a una variable //=, y la potencia a una variable **=)\n",
    "num = 4;\n",
    "print(num);\n",
    "num += 5;\n",
    "print(num);\n",
    "num -= 5;\n",
    "print(num);\n",
    "num *= 5;\n",
    "print(num);\n",
    "num /= 5;\n",
    "print(num);\n",
    "num %= 5\n",
    "print(num);\n",
    "num //= 5;\n",
    "print(num);\n",
    "num **= 5\n",
    "print(num);\n"
   ]
  },
  {
   "cell_type": "code",
   "execution_count": 15,
   "metadata": {},
   "outputs": [
    {
     "name": "stdout",
     "output_type": "stream",
     "text": [
      "Hola Como estas\n",
      "HolaHolaHolaHolaHola\n"
     ]
    }
   ],
   "source": [
    "#operadores de string (concatenar o juntar textos +, signo * para multiplicar o repetir textos)\n",
    "texto = 'Hola';\n",
    "texto1 = 'Como estas';\n",
    "print(texto + ' ' + texto1);\n",
    "print(texto * 5);"
   ]
  },
  {
   "cell_type": "code",
   "execution_count": 18,
   "metadata": {},
   "outputs": [
    {
     "name": "stdout",
     "output_type": "stream",
     "text": [
      "True\n",
      "True\n",
      "True\n"
     ]
    }
   ],
   "source": [
    "#Operaciones logicas ( cumplir dos o mas verdad and, una sea verdad or, negar el valor de la variable)\n",
    "print(5 == 5 and 3 == 3);\n",
    "print(5 == 5 or 3 == 4);\n",
    "print(not 4 == 5); #falso pasa a true"
   ]
  }
 ],
 "metadata": {
  "kernelspec": {
   "display_name": "Python 3",
   "language": "python",
   "name": "python3"
  },
  "language_info": {
   "codemirror_mode": {
    "name": "ipython",
    "version": 3
   },
   "file_extension": ".py",
   "mimetype": "text/x-python",
   "name": "python",
   "nbconvert_exporter": "python",
   "pygments_lexer": "ipython3",
   "version": "3.10.0"
  }
 },
 "nbformat": 4,
 "nbformat_minor": 2
}
