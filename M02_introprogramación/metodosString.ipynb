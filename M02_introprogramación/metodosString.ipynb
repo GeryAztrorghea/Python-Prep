{
 "cells": [
  {
   "cell_type": "code",
   "execution_count": 1,
   "metadata": {},
   "outputs": [
    {
     "name": "stdout",
     "output_type": "stream",
     "text": [
      "ESPERO APRENDER TODO\n"
     ]
    }
   ],
   "source": [
    "# cambia de minuscula a mayuscula\n",
    "texto = 'espero aprender todo'\n",
    "print(texto.upper());"
   ]
  },
  {
   "cell_type": "code",
   "execution_count": 2,
   "metadata": {},
   "outputs": [
    {
     "name": "stdout",
     "output_type": "stream",
     "text": [
      "cambiar la informacion\n"
     ]
    }
   ],
   "source": [
    "# Cambiar de mayuscula a minuscula\n",
    "texto1 = 'CAMBIAR LA INFORMACION'\n",
    "print(texto1.lower());"
   ]
  },
  {
   "cell_type": "code",
   "execution_count": 3,
   "metadata": {},
   "outputs": [
    {
     "name": "stdout",
     "output_type": "stream",
     "text": [
      "Espero aprender todo\n"
     ]
    }
   ],
   "source": [
    "#Cambiar la primer letra a mayuscula \n",
    "print(texto.capitalize());"
   ]
  },
  {
   "cell_type": "code",
   "execution_count": 4,
   "metadata": {},
   "outputs": [
    {
     "name": "stdout",
     "output_type": "stream",
     "text": [
      "          jose\n",
      "jose\n"
     ]
    }
   ],
   "source": [
    "texto2 = \"          jose\";\n",
    "print(texto2);\n",
    "# Elimina los espacios del texto\n",
    "print(texto2.strip());"
   ]
  },
  {
   "cell_type": "code",
   "execution_count": 6,
   "metadata": {},
   "outputs": [
    {
     "name": "stdout",
     "output_type": "stream",
     "text": [
      "Hola, como, estas, me, enamore\n",
      "['Hola', ' como', ' estas', ' me', ' enamore']\n"
     ]
    }
   ],
   "source": [
    "texto3 = 'Hola,como,estas,me,enamore';\n",
    "# Cambiar de texto a lista en donde existe el caracter\n",
    "print(texto3);\n",
    "print(texto3.split(\",\"));\n"
   ]
  },
  {
   "cell_type": "code",
   "execution_count": 11,
   "metadata": {},
   "outputs": [
    {
     "ename": "TypeError",
     "evalue": "replace expected at least 2 arguments, got 1",
     "output_type": "error",
     "traceback": [
      "\u001b[1;31m---------------------------------------------------------------------------\u001b[0m",
      "\u001b[1;31mTypeError\u001b[0m                                 Traceback (most recent call last)",
      "Cell \u001b[1;32mIn[11], line 2\u001b[0m\n\u001b[0;32m      1\u001b[0m texto4 \u001b[38;5;241m=\u001b[39m \u001b[38;5;124m'\u001b[39m\u001b[38;5;124mHola, amigos\u001b[39m\u001b[38;5;124m'\u001b[39m\n\u001b[1;32m----> 2\u001b[0m cadena \u001b[38;5;241m=\u001b[39m \u001b[43mtexto4\u001b[49m\u001b[38;5;241;43m.\u001b[39;49m\u001b[43mreplace\u001b[49m\u001b[43m(\u001b[49m\u001b[38;5;124;43m\"\u001b[39;49m\u001b[38;5;124;43mmundo juegos\u001b[39;49m\u001b[38;5;124;43m\"\u001b[39;49m\u001b[43m)\u001b[49m;\n\u001b[0;32m      3\u001b[0m \u001b[38;5;28mprint\u001b[39m(cadena);\n",
      "\u001b[1;31mTypeError\u001b[0m: replace expected at least 2 arguments, got 1"
     ]
    }
   ],
   "source": [
    "# enlace de metodos string https://blog.soyhenry.com/metodos-no-tan-vistos-en-python/"
   ]
  }
 ],
 "metadata": {
  "kernelspec": {
   "display_name": "Python 3",
   "language": "python",
   "name": "python3"
  },
  "language_info": {
   "codemirror_mode": {
    "name": "ipython",
    "version": 3
   },
   "file_extension": ".py",
   "mimetype": "text/x-python",
   "name": "python",
   "nbconvert_exporter": "python",
   "pygments_lexer": "ipython3",
   "version": "3.10.0"
  }
 },
 "nbformat": 4,
 "nbformat_minor": 2
}
